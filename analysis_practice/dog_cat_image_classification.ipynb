{
  "nbformat": 4,
  "nbformat_minor": 0,
  "metadata": {
    "colab": {
      "name": "dog_cat_image_classification.ipynb",
      "provenance": [],
      "collapsed_sections": [],
      "authorship_tag": "ABX9TyP8f+MfCR2RMp0dPVjvzvNV",
      "include_colab_link": true
    },
    "kernelspec": {
      "name": "python3",
      "display_name": "Python 3"
    },
    "language_info": {
      "name": "python"
    }
  },
  "cells": [
    {
      "cell_type": "markdown",
      "metadata": {
        "id": "view-in-github",
        "colab_type": "text"
      },
      "source": [
        "<a href=\"https://colab.research.google.com/github/fromrang/data-analysis/blob/master/analysis_practice/dog_cat_image_classification.ipynb\" target=\"_parent\"><img src=\"https://colab.research.google.com/assets/colab-badge.svg\" alt=\"Open In Colab\"/></a>"
      ]
    },
    {
      "cell_type": "code",
      "source": [
        "import matplotlib.pyplot as plt\n",
        "import numpy as np\n",
        "import os\n",
        "import PIL\n",
        "import tensorflow as tf\n",
        "\n",
        "from tensorflow import keras\n",
        "from tensorflow.keras import layers\n",
        "from tensorflow.keras.models import Sequential"
      ],
      "metadata": {
        "id": "x7K2cRFs6Ks6"
      },
      "execution_count": null,
      "outputs": []
    },
    {
      "cell_type": "markdown",
      "source": [
        "# 데이터 불러와서 저장하기"
      ],
      "metadata": {
        "id": "4F7tZU9XGX0W"
      }
    },
    {
      "cell_type": "code",
      "execution_count": null,
      "metadata": {
        "colab": {
          "base_uri": "https://localhost:8080/"
        },
        "id": "IT1i8qxd5ttR",
        "outputId": "c119eee9-656e-4805-d86c-47f42cf414b0"
      },
      "outputs": [
        {
          "output_type": "stream",
          "name": "stdout",
          "text": [
            "Downloading data from https://storage.googleapis.com/mledu-datasets/cats_and_dogs_filtered.zip\n",
            "68608000/68606236 [==============================] - 0s 0us/step\n",
            "68616192/68606236 [==============================] - 0s 0us/step\n"
          ]
        }
      ],
      "source": [
        "_URL = 'https://storage.googleapis.com/mledu-datasets/cats_and_dogs_filtered.zip'\n",
        "path_to_zip = tf.keras.utils.get_file('cats_and_dogs.zip', origin=_URL, extract=True)\n",
        "PATH = os.path.join(os.path.dirname(path_to_zip), 'cats_and_dogs_filtered')\n",
        "\n",
        "train_dir = os.path.join(PATH, 'train')\n",
        "validation_dir = os.path.join(PATH, 'validation')"
      ]
    },
    {
      "cell_type": "markdown",
      "source": [
        "# 디스크에 있는 데이터 가지고 오기"
      ],
      "metadata": {
        "id": "8YLUmcicGdwa"
      }
    },
    {
      "cell_type": "code",
      "source": [
        "BATCH_SIZE = 32\n",
        "IMG_SIZE = (160, 160)\n",
        "\n",
        "train_ds = tf.keras.preprocessing.image_dataset_from_directory(\n",
        "    train_dir,\n",
        "    shuffle = True,\n",
        "    batch_size = BATCH_SIZE,\n",
        "    image_size = IMG_SIZE)\n",
        "\n",
        "validation_ds = tf.keras.preprocessing.image_dataset_from_directory(\n",
        "    validation_dir,\n",
        "    shuffle = True,\n",
        "    batch_size = BATCH_SIZE,\n",
        "    image_size = IMG_SIZE\n",
        ")"
      ],
      "metadata": {
        "colab": {
          "base_uri": "https://localhost:8080/"
        },
        "id": "Wsq7lf666NnQ",
        "outputId": "1a5f2a4c-92d1-4b07-c7a5-70be167d2afb"
      },
      "execution_count": null,
      "outputs": [
        {
          "output_type": "stream",
          "name": "stdout",
          "text": [
            "Found 2000 files belonging to 2 classes.\n",
            "Found 1000 files belonging to 2 classes.\n"
          ]
        }
      ]
    },
    {
      "cell_type": "code",
      "source": [
        "class_names = train_ds.class_names\n",
        "print(class_names)"
      ],
      "metadata": {
        "colab": {
          "base_uri": "https://localhost:8080/"
        },
        "id": "Pe2cqHgv6NqI",
        "outputId": "4552449f-9a5b-49b0-e9cc-f036acdd42c7"
      },
      "execution_count": null,
      "outputs": [
        {
          "output_type": "stream",
          "name": "stdout",
          "text": [
            "['cats', 'dogs']\n"
          ]
        }
      ]
    },
    {
      "cell_type": "code",
      "source": [
        "# "
      ],
      "metadata": {
        "id": "UzECJazuGiKt"
      },
      "execution_count": null,
      "outputs": []
    },
    {
      "cell_type": "code",
      "source": [
        "AUTOTUNE = tf.data.experimental.AUTOTUNE\n",
        "\n",
        "train_ds = train_ds.cache().shuffle(1000).prefetch(buffer_size=AUTOTUNE)\n",
        "validation_ds = validation_ds.cache().prefetch(buffer_size=AUTOTUNE)"
      ],
      "metadata": {
        "id": "z8EIpwCc6Nsp"
      },
      "execution_count": null,
      "outputs": []
    },
    {
      "cell_type": "code",
      "source": [
        "normalization_layer = layers.experimental.preprocessing.Rescaling(1./255)\n",
        "\n",
        "normalized_ds = train_ds.map(lambda x, y: (normalization_layer(x), y))\n",
        "image_batch, labels_batch = next(iter(normalized_ds))\n",
        "first_image = image_batch[0]\n",
        "print(np.min(first_image), np.max(first_image))"
      ],
      "metadata": {
        "colab": {
          "base_uri": "https://localhost:8080/"
        },
        "id": "R7tv6JT76NvD",
        "outputId": "3859977b-a32b-4a9a-d5cb-cae04aafe5fe"
      },
      "execution_count": null,
      "outputs": [
        {
          "output_type": "stream",
          "name": "stdout",
          "text": [
            "0.0 1.0\n"
          ]
        }
      ]
    },
    {
      "cell_type": "markdown",
      "source": [
        "# 모델 만들기"
      ],
      "metadata": {
        "id": "DaRjpSY2Gk-J"
      }
    },
    {
      "cell_type": "code",
      "source": [
        "num_classes = 2\n",
        "\n",
        "model = Sequential([\n",
        "  layers.experimental.preprocessing.Rescaling(1./255, input_shape=(160,160, 3)),\n",
        "  layers.Conv2D(16, 3, padding='same', activation='relu'),\n",
        "  layers.MaxPooling2D(),\n",
        "  layers.Conv2D(32, 3, padding='same', activation='relu'),\n",
        "  layers.MaxPooling2D(),\n",
        "  layers.Conv2D(64, 3, padding='same', activation='relu'),\n",
        "  layers.MaxPooling2D(),\n",
        "  layers.Flatten(),\n",
        "  layers.Dense(128, activation='relu'),\n",
        "  layers.Dense(num_classes)\n",
        "])"
      ],
      "metadata": {
        "id": "gxUfOIZn6Nxf"
      },
      "execution_count": null,
      "outputs": []
    },
    {
      "cell_type": "code",
      "source": [
        "model.summary()"
      ],
      "metadata": {
        "colab": {
          "base_uri": "https://localhost:8080/"
        },
        "id": "puNjg6kq6N0B",
        "outputId": "439b2cb5-f588-4987-8698-a3f2aedc95a5"
      },
      "execution_count": null,
      "outputs": [
        {
          "output_type": "stream",
          "name": "stdout",
          "text": [
            "Model: \"sequential_1\"\n",
            "_________________________________________________________________\n",
            " Layer (type)                Output Shape              Param #   \n",
            "=================================================================\n",
            " rescaling_2 (Rescaling)     (None, 160, 160, 3)       0         \n",
            "                                                                 \n",
            " conv2d_3 (Conv2D)           (None, 160, 160, 16)      448       \n",
            "                                                                 \n",
            " max_pooling2d_3 (MaxPooling  (None, 80, 80, 16)       0         \n",
            " 2D)                                                             \n",
            "                                                                 \n",
            " conv2d_4 (Conv2D)           (None, 80, 80, 32)        4640      \n",
            "                                                                 \n",
            " max_pooling2d_4 (MaxPooling  (None, 40, 40, 32)       0         \n",
            " 2D)                                                             \n",
            "                                                                 \n",
            " conv2d_5 (Conv2D)           (None, 40, 40, 64)        18496     \n",
            "                                                                 \n",
            " max_pooling2d_5 (MaxPooling  (None, 20, 20, 64)       0         \n",
            " 2D)                                                             \n",
            "                                                                 \n",
            " flatten_1 (Flatten)         (None, 25600)             0         \n",
            "                                                                 \n",
            " dense_2 (Dense)             (None, 128)               3276928   \n",
            "                                                                 \n",
            " dense_3 (Dense)             (None, 2)                 258       \n",
            "                                                                 \n",
            "=================================================================\n",
            "Total params: 3,300,770\n",
            "Trainable params: 3,300,770\n",
            "Non-trainable params: 0\n",
            "_________________________________________________________________\n"
          ]
        }
      ]
    },
    {
      "cell_type": "code",
      "source": [
        "model.compile(optimizer='adam',\n",
        "              loss=tf.keras.losses.SparseCategoricalCrossentropy(from_logits=True),\n",
        "              metrics=['accuracy'])"
      ],
      "metadata": {
        "id": "_A6tn7Mv8Mxe"
      },
      "execution_count": null,
      "outputs": []
    },
    {
      "cell_type": "code",
      "source": [
        "epochs=10\n",
        "history = model.fit(\n",
        "  train_ds,\n",
        "  validation_data=validation_ds,\n",
        "  epochs=epochs\n",
        ")"
      ],
      "metadata": {
        "colab": {
          "base_uri": "https://localhost:8080/"
        },
        "id": "fnp_dTE86N26",
        "outputId": "8a142b40-ff9a-4eef-efd4-312f327ee58a"
      },
      "execution_count": null,
      "outputs": [
        {
          "output_type": "stream",
          "name": "stdout",
          "text": [
            "Epoch 1/10\n",
            "63/63 [==============================] - 59s 929ms/step - loss: 0.6844 - accuracy: 0.5640 - val_loss: 0.6236 - val_accuracy: 0.6240\n",
            "Epoch 2/10\n",
            "63/63 [==============================] - 53s 841ms/step - loss: 0.5948 - accuracy: 0.6860 - val_loss: 0.6128 - val_accuracy: 0.6690\n",
            "Epoch 3/10\n",
            "63/63 [==============================] - 52s 830ms/step - loss: 0.5103 - accuracy: 0.7520 - val_loss: 0.5793 - val_accuracy: 0.7200\n",
            "Epoch 4/10\n",
            "63/63 [==============================] - 52s 832ms/step - loss: 0.4473 - accuracy: 0.7985 - val_loss: 0.5661 - val_accuracy: 0.7280\n",
            "Epoch 5/10\n",
            "63/63 [==============================] - 52s 826ms/step - loss: 0.3772 - accuracy: 0.8330 - val_loss: 0.5894 - val_accuracy: 0.7200\n",
            "Epoch 6/10\n",
            "63/63 [==============================] - 52s 830ms/step - loss: 0.2602 - accuracy: 0.8915 - val_loss: 0.6634 - val_accuracy: 0.7040\n",
            "Epoch 7/10\n",
            "63/63 [==============================] - 52s 829ms/step - loss: 0.1728 - accuracy: 0.9335 - val_loss: 0.7543 - val_accuracy: 0.7230\n",
            "Epoch 8/10\n",
            "63/63 [==============================] - 52s 831ms/step - loss: 0.1497 - accuracy: 0.9425 - val_loss: 0.8433 - val_accuracy: 0.7190\n",
            "Epoch 9/10\n",
            "63/63 [==============================] - 52s 831ms/step - loss: 0.0781 - accuracy: 0.9745 - val_loss: 1.0537 - val_accuracy: 0.7350\n",
            "Epoch 10/10\n",
            "63/63 [==============================] - 52s 829ms/step - loss: 0.0662 - accuracy: 0.9795 - val_loss: 0.9427 - val_accuracy: 0.7330\n"
          ]
        }
      ]
    },
    {
      "cell_type": "code",
      "source": [
        "acc = history.history['accuracy']\n",
        "val_acc = history.history['val_accuracy']\n",
        "\n",
        "loss=history.history['loss']\n",
        "val_loss=history.history['val_loss']\n",
        "\n",
        "epochs_range = range(epochs)\n",
        "\n",
        "plt.figure(figsize=(8, 8))\n",
        "plt.subplot(1, 2, 1)\n",
        "plt.plot(epochs_range, acc, label='Training Accuracy')\n",
        "plt.plot(epochs_range, val_acc, label='Validation Accuracy')\n",
        "plt.legend(loc='lower right')\n",
        "plt.title('Training and Validation Accuracy')\n",
        "\n",
        "plt.subplot(1, 2, 2)\n",
        "plt.plot(epochs_range, loss, label='Training Loss')\n",
        "plt.plot(epochs_range, val_loss, label='Validation Loss')\n",
        "plt.legend(loc='upper right')\n",
        "plt.title('Training and Validation Loss')\n",
        "plt.show()"
      ],
      "metadata": {
        "colab": {
          "base_uri": "https://localhost:8080/",
          "height": 499
        },
        "id": "ty3ot2DY6OCP",
        "outputId": "7fb3f094-e88d-44b9-c060-1eb14dbdb772"
      },
      "execution_count": null,
      "outputs": [
        {
          "output_type": "display_data",
          "data": {
            "image/png": "[encoded data removed]",
            "text/plain": [
              "<Figure size 576x576 with 2 Axes>"
            ]
          },
          "metadata": {
            "needs_background": "light"
          }
        }
      ]
    },
    {
      "cell_type": "markdown",
      "source": [
        "# 과대적합 문제점 발견 모델 수정"
      ],
      "metadata": {
        "id": "xwpOMC_qGy6-"
      }
    },
    {
      "cell_type": "code",
      "source": [
        "data_augmentation = keras.Sequential(\n",
        "  [\n",
        "    layers.experimental.preprocessing.RandomFlip(\"horizontal\", \n",
        "                                                 input_shape=(160, \n",
        "                                                              160,\n",
        "                                                              3)),\n",
        "    layers.experimental.preprocessing.RandomRotation(0.1),\n",
        "    layers.experimental.preprocessing.RandomZoom(0.1),\n",
        "  ]\n",
        ")\n",
        "model = Sequential([\n",
        "  data_augmentation,\n",
        "  layers.experimental.preprocessing.Rescaling(1./255),\n",
        "  layers.Conv2D(16, 3, padding='same', activation='relu'),\n",
        "  layers.MaxPooling2D(),\n",
        "  layers.Conv2D(32, 3, padding='same', activation='relu'),\n",
        "  layers.MaxPooling2D(),\n",
        "  layers.Conv2D(64, 3, padding='same', activation='relu'),\n",
        "  layers.MaxPooling2D(),\n",
        "  layers.Dropout(0.2),\n",
        "  layers.Flatten(),\n",
        "  layers.Dense(128, activation='relu'),\n",
        "  layers.Dense(num_classes)\n",
        "])"
      ],
      "metadata": {
        "id": "B27xP-qm-1_E"
      },
      "execution_count": null,
      "outputs": []
    },
    {
      "cell_type": "code",
      "source": [
        "model.compile(optimizer='adam',\n",
        "              loss=tf.keras.losses.SparseCategoricalCrossentropy(from_logits=True),\n",
        "              metrics=['accuracy'])\n",
        "\n",
        "model.summary()"
      ],
      "metadata": {
        "colab": {
          "base_uri": "https://localhost:8080/"
        },
        "id": "xqIRXlyi-qWr",
        "outputId": "20662889-e18a-43a2-aa17-79a6f95890a5"
      },
      "execution_count": null,
      "outputs": [
        {
          "output_type": "stream",
          "name": "stdout",
          "text": [
            "Model: \"sequential_3\"\n",
            "_________________________________________________________________\n",
            " Layer (type)                Output Shape              Param #   \n",
            "=================================================================\n",
            " sequential_2 (Sequential)   (None, 160, 160, 3)       0         \n",
            "                                                                 \n",
            " rescaling_3 (Rescaling)     (None, 160, 160, 3)       0         \n",
            "                                                                 \n",
            " conv2d_6 (Conv2D)           (None, 160, 160, 16)      448       \n",
            "                                                                 \n",
            " max_pooling2d_6 (MaxPooling  (None, 80, 80, 16)       0         \n",
            " 2D)                                                             \n",
            "                                                                 \n",
            " conv2d_7 (Conv2D)           (None, 80, 80, 32)        4640      \n",
            "                                                                 \n",
            " max_pooling2d_7 (MaxPooling  (None, 40, 40, 32)       0         \n",
            " 2D)                                                             \n",
            "                                                                 \n",
            " conv2d_8 (Conv2D)           (None, 40, 40, 64)        18496     \n",
            "                                                                 \n",
            " max_pooling2d_8 (MaxPooling  (None, 20, 20, 64)       0         \n",
            " 2D)                                                             \n",
            "                                                                 \n",
            " dropout (Dropout)           (None, 20, 20, 64)        0         \n",
            "                                                                 \n",
            " flatten_2 (Flatten)         (None, 25600)             0         \n",
            "                                                                 \n",
            " dense_4 (Dense)             (None, 128)               3276928   \n",
            "                                                                 \n",
            " dense_5 (Dense)             (None, 2)                 258       \n",
            "                                                                 \n",
            "=================================================================\n",
            "Total params: 3,300,770\n",
            "Trainable params: 3,300,770\n",
            "Non-trainable params: 0\n",
            "_________________________________________________________________\n"
          ]
        }
      ]
    },
    {
      "cell_type": "code",
      "source": [
        "epochs = 15\n",
        "history = model.fit(\n",
        "  train_ds,\n",
        "  validation_data=validation_ds,\n",
        "  epochs=epochs\n",
        ")"
      ],
      "metadata": {
        "colab": {
          "base_uri": "https://localhost:8080/"
        },
        "id": "6s5BQE90-qZW",
        "outputId": "8f264a51-1fbf-4261-b1d0-7f92af97c45e"
      },
      "execution_count": null,
      "outputs": [
        {
          "output_type": "stream",
          "name": "stdout",
          "text": [
            "Epoch 1/15\n",
            "63/63 [==============================] - 63s 978ms/step - loss: 0.7213 - accuracy: 0.5350 - val_loss: 0.6934 - val_accuracy: 0.5190\n",
            "Epoch 2/15\n",
            "63/63 [==============================] - 60s 953ms/step - loss: 0.6863 - accuracy: 0.5475 - val_loss: 0.6555 - val_accuracy: 0.5970\n",
            "Epoch 3/15\n",
            "63/63 [==============================] - 61s 969ms/step - loss: 0.6565 - accuracy: 0.6245 - val_loss: 0.6580 - val_accuracy: 0.5920\n",
            "Epoch 4/15\n",
            "63/63 [==============================] - 59s 945ms/step - loss: 0.6448 - accuracy: 0.6310 - val_loss: 0.6255 - val_accuracy: 0.6340\n",
            "Epoch 5/15\n",
            "63/63 [==============================] - 59s 946ms/step - loss: 0.6061 - accuracy: 0.6810 - val_loss: 0.6367 - val_accuracy: 0.6370\n",
            "Epoch 6/15\n",
            "63/63 [==============================] - 59s 944ms/step - loss: 0.5940 - accuracy: 0.6865 - val_loss: 0.5811 - val_accuracy: 0.6850\n",
            "Epoch 7/15\n",
            "63/63 [==============================] - 60s 955ms/step - loss: 0.5789 - accuracy: 0.6990 - val_loss: 0.5758 - val_accuracy: 0.6880\n",
            "Epoch 8/15\n",
            "63/63 [==============================] - 60s 952ms/step - loss: 0.5695 - accuracy: 0.7145 - val_loss: 0.5713 - val_accuracy: 0.7000\n",
            "Epoch 9/15\n",
            "63/63 [==============================] - 60s 954ms/step - loss: 0.5571 - accuracy: 0.7245 - val_loss: 0.6125 - val_accuracy: 0.6630\n",
            "Epoch 10/15\n",
            "63/63 [==============================] - 60s 956ms/step - loss: 0.5429 - accuracy: 0.7255 - val_loss: 0.5535 - val_accuracy: 0.7140\n",
            "Epoch 11/15\n",
            "63/63 [==============================] - 60s 954ms/step - loss: 0.5342 - accuracy: 0.7345 - val_loss: 0.6267 - val_accuracy: 0.6780\n",
            "Epoch 12/15\n",
            "63/63 [==============================] - 67s 1s/step - loss: 0.5268 - accuracy: 0.7435 - val_loss: 0.5651 - val_accuracy: 0.7080\n",
            "Epoch 13/15\n",
            "63/63 [==============================] - 74s 1s/step - loss: 0.5192 - accuracy: 0.7475 - val_loss: 0.5653 - val_accuracy: 0.7050\n",
            "Epoch 14/15\n",
            "63/63 [==============================] - 75s 1s/step - loss: 0.5129 - accuracy: 0.7450 - val_loss: 0.5728 - val_accuracy: 0.7050\n",
            "Epoch 15/15\n",
            "63/63 [==============================] - 61s 963ms/step - loss: 0.5091 - accuracy: 0.7595 - val_loss: 0.5560 - val_accuracy: 0.7230\n"
          ]
        }
      ]
    },
    {
      "cell_type": "markdown",
      "source": [
        "#두번째 훈련 결과 시각화"
      ],
      "metadata": {
        "id": "Qxd_Gzn5HA53"
      }
    },
    {
      "cell_type": "code",
      "source": [
        "acc = history.history['accuracy']\n",
        "val_acc = history.history['val_accuracy']\n",
        "\n",
        "loss = history.history['loss']\n",
        "val_loss = history.history['val_loss']\n",
        "\n",
        "epochs_range = range(epochs)\n",
        "\n",
        "plt.figure(figsize=(8, 8))\n",
        "plt.subplot(1, 2, 1)\n",
        "plt.plot(epochs_range, acc, label='Training Accuracy')\n",
        "plt.plot(epochs_range, val_acc, label='Validation Accuracy')\n",
        "plt.legend(loc='lower right')\n",
        "plt.title('Training and Validation Accuracy')\n",
        "\n",
        "plt.subplot(1, 2, 2)\n",
        "plt.plot(epochs_range, loss, label='Training Loss')\n",
        "plt.plot(epochs_range, val_loss, label='Validation Loss')\n",
        "plt.legend(loc='upper right')\n",
        "plt.title('Training and Validation Loss')\n",
        "plt.show()"
      ],
      "metadata": {
        "colab": {
          "base_uri": "https://localhost:8080/",
          "height": 499
        },
        "id": "I_3wvySw-qcH",
        "outputId": "e69bd7f7-894a-4a1f-b0da-ae60a4769db2"
      },
      "execution_count": null,
      "outputs": [
        {
          "output_type": "display_data",
          "data": {
            "image/png": "[encoded data removed]",
            "text/plain": [
              "<Figure size 576x576 with 2 Axes>"
            ]
          },
          "metadata": {
            "needs_background": "light"
          }
        }
      ]
    },
    {
      "cell_type": "markdown",
      "source": [
        "# 새로운 이미지 가지고 와서 모델 테스트"
      ],
      "metadata": {
        "id": "sZQ8Wq_wHFRq"
      }
    },
    {
      "cell_type": "code",
      "source": [
        "dog_image_url = 'https://mypetlife.co.kr/9989/kakaotalk_20180720_165306472/'\n",
        "dog_image_path = tf.keras.utils.get_file('dog_dog_image', origin = dog_image_url)\n",
        "\n",
        "img = keras.preprocessing.image.load_img(\n",
        "    dog_image_path, target_size=(160, 160)\n",
        ")\n",
        "img_array = keras.preprocessing.image.img_to_array(img)\n",
        "img_array = tf.expand_dims(img_array, 0) # Create a batch\n",
        "\n",
        "predictions = model.predict(img_array)\n",
        "score = tf.nn.softmax(predictions[0])\n",
        "\n",
        "print(\n",
        "    \"This image most likely belongs to {} with a {:.2f} percent confidence.\"\n",
        "    .format(class_names[np.argmax(score)], 100 * np.max(score))\n",
        ")"
      ],
      "metadata": {
        "colab": {
          "base_uri": "https://localhost:8080/"
        },
        "id": "criF_2Pd-qgd",
        "outputId": "06622fd2-2a12-4467-b9e3-fca847099024"
      },
      "execution_count": null,
      "outputs": [
        {
          "output_type": "stream",
          "name": "stdout",
          "text": [
            "Downloading data from https://mypetlife.co.kr/9989/kakaotalk_20180720_165306472/\n",
            "81920/77123 [===============================] - 0s 2us/step\n",
            "90112/77123 [===================================] - 0s 2us/step\n",
            "This image most likely belongs to dogs with a 60.19 percent confidence.\n"
          ]
        }
      ]
    }
  ]
}