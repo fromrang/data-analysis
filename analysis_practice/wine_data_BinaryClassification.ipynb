{
  "nbformat": 4,
  "nbformat_minor": 0,
  "metadata": {
    "colab": {
      "name": "wine_data_BinaryClassification.ipynb",
      "provenance": [],
      "authorship_tag": "ABX9TyMuzRd6JrIAFbXtxrJ2psCU",
      "include_colab_link": true
    },
    "kernelspec": {
      "name": "python3",
      "display_name": "Python 3"
    },
    "language_info": {
      "name": "python"
    }
  },
  "cells": [
    {
      "cell_type": "markdown",
      "metadata": {
        "id": "view-in-github",
        "colab_type": "text"
      },
      "source": [
        "<a href=\"https://colab.research.google.com/github/fromrang/data-analysis/blob/master/analysis_practice/wine_data_BinaryClassification.ipynb\" target=\"_parent\"><img src=\"https://colab.research.google.com/assets/colab-badge.svg\" alt=\"Open In Colab\"/></a>"
      ]
    },
    {
      "cell_type": "code",
      "execution_count": 2,
      "metadata": {
        "id": "xY3TZHp4AQge"
      },
      "outputs": [],
      "source": [
        "import tensorflow as tf\n",
        "import tensorflow_hub as hub\n",
        "\n",
        "import requests\n",
        "from PIL import Image\n",
        "from io import BytesIO\n",
        "\n",
        "import matplotlib.pyplot as plt\n",
        "import numpy as np\n",
        "import pandas as pd"
      ]
    },
    {
      "cell_type": "code",
      "source": [
        "red = pd.read_csv('http://archive.ics.uci.edu/ml/machine-learning-databases/wine-quality/winequality-red.csv', sep=';')\n",
        "white = pd.read_csv('http://archive.ics.uci.edu/ml/machine-learning-databases/wine-quality/winequality-white.csv', sep=';')\n",
        "print(red.head())\n",
        "print(white.head())\n"
      ],
      "metadata": {
        "colab": {
          "base_uri": "https://localhost:8080/"
        },
        "id": "Aj6eRGSYYxQD",
        "outputId": "20878b16-fcd1-4c5b-b4e0-93b291531de3"
      },
      "execution_count": 3,
      "outputs": [
        {
          "output_type": "stream",
          "name": "stdout",
          "text": [
            "   fixed acidity  volatile acidity  citric acid  ...  sulphates  alcohol  quality\n",
            "0            7.4              0.70         0.00  ...       0.56      9.4        5\n",
            "1            7.8              0.88         0.00  ...       0.68      9.8        5\n",
            "2            7.8              0.76         0.04  ...       0.65      9.8        5\n",
            "3           11.2              0.28         0.56  ...       0.58      9.8        6\n",
            "4            7.4              0.70         0.00  ...       0.56      9.4        5\n",
            "\n",
            "[5 rows x 12 columns]\n",
            "   fixed acidity  volatile acidity  citric acid  ...  sulphates  alcohol  quality\n",
            "0            7.0              0.27         0.36  ...       0.45      8.8        6\n",
            "1            6.3              0.30         0.34  ...       0.49      9.5        6\n",
            "2            8.1              0.28         0.40  ...       0.44     10.1        6\n",
            "3            7.2              0.23         0.32  ...       0.40      9.9        6\n",
            "4            7.2              0.23         0.32  ...       0.40      9.9        6\n",
            "\n",
            "[5 rows x 12 columns]\n"
          ]
        }
      ]
    },
    {
      "cell_type": "markdown",
      "source": [
        "## **red 와인은 type 0으로 white 와인은 type 1로 지정해준 다음 두 데이터프레임을 합친다.**"
      ],
      "metadata": {
        "id": "0qBAAPTcLZA5"
      }
    },
    {
      "cell_type": "code",
      "source": [
        "red['type'] = 0\n",
        "white['type'] = 1\n",
        "\n",
        "wine = pd.concat([red,white])\n",
        "print(wine)"
      ],
      "metadata": {
        "colab": {
          "base_uri": "https://localhost:8080/"
        },
        "id": "k4pG46A-Ytyu",
        "outputId": "9aae9f1f-14f9-4f8b-cb35-7e1a1a316148"
      },
      "execution_count": 4,
      "outputs": [
        {
          "output_type": "stream",
          "name": "stdout",
          "text": [
            "      fixed acidity  volatile acidity  citric acid  ...  alcohol  quality  type\n",
            "0               7.4              0.70         0.00  ...      9.4        5     0\n",
            "1               7.8              0.88         0.00  ...      9.8        5     0\n",
            "2               7.8              0.76         0.04  ...      9.8        5     0\n",
            "3              11.2              0.28         0.56  ...      9.8        6     0\n",
            "4               7.4              0.70         0.00  ...      9.4        5     0\n",
            "...             ...               ...          ...  ...      ...      ...   ...\n",
            "4893            6.2              0.21         0.29  ...     11.2        6     1\n",
            "4894            6.6              0.32         0.36  ...      9.6        5     1\n",
            "4895            6.5              0.24         0.19  ...      9.4        6     1\n",
            "4896            5.5              0.29         0.30  ...     12.8        7     1\n",
            "4897            6.0              0.21         0.38  ...     11.8        6     1\n",
            "\n",
            "[6497 rows x 13 columns]\n"
          ]
        }
      ]
    },
    {
      "cell_type": "markdown",
      "source": [
        "## **그래프와 텍스트로 데이터가 잘 구성되어있는 지 확인한다.**"
      ],
      "metadata": {
        "id": "3GddtDY4LyS3"
      }
    },
    {
      "cell_type": "code",
      "source": [
        "plt.hist(wine['type'])\n",
        "plt.xticks([0, 1])\n",
        "plt.show()\n",
        "\n",
        "print(\"type data: \",np.unique(wine['type']))"
      ],
      "metadata": {
        "colab": {
          "base_uri": "https://localhost:8080/",
          "height": 283
        },
        "id": "qeJ623mcYyFL",
        "outputId": "a0a6e5eb-7d75-4085-ad56-9e8e42ef19db"
      },
      "execution_count": 28,
      "outputs": [
        {
          "output_type": "display_data",
          "data": {
            "image/png": "[encoded data removed]",
            "text/plain": [
              "<Figure size 432x288 with 1 Axes>"
            ]
          },
          "metadata": {
            "needs_background": "light"
          }
        },
        {
          "output_type": "stream",
          "name": "stdout",
          "text": [
            "type data:  [0 1]\n"
          ]
        }
      ]
    },
    {
      "cell_type": "markdown",
      "source": [
        "## **x에는 속성값을 y에는 타깃값을 넣어준다**"
      ],
      "metadata": {
        "id": "4hLQzRbiMexh"
      }
    },
    {
      "cell_type": "code",
      "source": [
        "x = wine.iloc[:,0:-1]\n",
        "y = wine.iloc[:,-1]"
      ],
      "metadata": {
        "id": "5sPVOMv3btaC"
      },
      "execution_count": 31,
      "outputs": []
    },
    {
      "cell_type": "markdown",
      "source": [
        "## **사이킷런을 사용해서 속성(x) 데이터를 표준화시켜준다.**"
      ],
      "metadata": {
        "id": "E74UMti_NvNZ"
      }
    },
    {
      "cell_type": "code",
      "source": [
        "from sklearn.preprocessing import StandardScaler\n",
        "\n",
        "sc = StandardScaler()\n",
        "sc.fit(x)\n",
        "x_std = sc.transform(x)\n",
        "print(x_std)"
      ],
      "metadata": {
        "colab": {
          "base_uri": "https://localhost:8080/"
        },
        "id": "fOLWPf5wbtU-",
        "outputId": "2b206739-7256-46e9-de0c-24aac423637e"
      },
      "execution_count": 7,
      "outputs": [
        {
          "output_type": "stream",
          "name": "stdout",
          "text": [
            "[[ 0.14247327  2.18883292 -2.19283252 ...  0.19309677 -0.91546416\n",
            "  -0.93722961]\n",
            " [ 0.45103572  3.28223494 -2.19283252 ...  0.99957862 -0.58006813\n",
            "  -0.93722961]\n",
            " [ 0.45103572  2.55330026 -1.91755268 ...  0.79795816 -0.58006813\n",
            "  -0.93722961]\n",
            " ...\n",
            " [-0.55179227 -0.6054167  -0.88525328 ... -0.47897144 -0.91546416\n",
            "   0.20799905]\n",
            " [-1.32319841 -0.30169391 -0.12823371 ... -1.016626    1.9354021\n",
            "   1.35322771]\n",
            " [-0.93749534 -0.78765037  0.42232597 ... -1.41986693  1.09691202\n",
            "   0.20799905]]\n"
          ]
        }
      ]
    },
    {
      "cell_type": "markdown",
      "source": [
        "## **사이킷런에 train_test_split 클래스를 사용해서 test 데이터와 train 데이터를 나눈다.**  \n",
        "test 데이터를 30%, train 데이터를 70%로 구성되게 나누어 주고, \n",
        "stratify 파라미터를 사용해서 y 값이 균일하게 나누어질 수 있도록 해준다.\n",
        "(random_state 파라미터를 통해 데이터를 섞을 수 있다.) "
      ],
      "metadata": {
        "id": "GZfEQVZHOc-u"
      }
    },
    {
      "cell_type": "code",
      "source": [
        "from sklearn.model_selection import train_test_split\n",
        "\n",
        "x_train, x_test, y_train, y_test = train_test_split(x_std, y, test_size = 0.3, random_state = 1, stratify = y )"
      ],
      "metadata": {
        "id": "SpeV7_ybfAeQ"
      },
      "execution_count": 8,
      "outputs": []
    },
    {
      "cell_type": "code",
      "source": [
        "print('total amount of y: ', np.bincount(y))\n",
        "print('amount of y train data: ', np.bincount(y_train))\n",
        "print('amount of y test data: ', np.bincount(y_test))"
      ],
      "metadata": {
        "colab": {
          "base_uri": "https://localhost:8080/"
        },
        "id": "JrpKg4qIfAka",
        "outputId": "1495ef9e-5921-4a27-d7eb-31855c1aae0a"
      },
      "execution_count": 33,
      "outputs": [
        {
          "output_type": "stream",
          "name": "stdout",
          "text": [
            "total amount of y:  [1599 4898]\n",
            "amount of y train data:  [1119 3428]\n",
            "amount of y test data:  [ 480 1470]\n"
          ]
        }
      ]
    },
    {
      "cell_type": "markdown",
      "source": [
        "## **모델을 정의한다.**  \n",
        "red와 white로 출력결과가 두개이기 때문에 마지막 layer에 units를 2로 지정하고 sigmoid 함수를 사용할 수 있도록 지정하였다."
      ],
      "metadata": {
        "id": "avFL6-FYPtBm"
      }
    },
    {
      "cell_type": "code",
      "source": [
        "model = tf.keras.Sequential([\n",
        "                             tf.keras.layers.Dense(units=48, activation = 'relu', input_shape = (12,)),\n",
        "                             tf.keras.layers.Dense(units=24, activation = 'relu'),\n",
        "                             tf.keras.layers.Dense(units=12, activation = 'relu'),\n",
        "                             tf.keras.layers.Dense(units=2, activation = 'sigmoid'),\n",
        "])"
      ],
      "metadata": {
        "id": "g30-iPKJikj0"
      },
      "execution_count": 19,
      "outputs": []
    },
    {
      "cell_type": "markdown",
      "source": [
        "## **모델 최적화를 해준다**\n",
        "모델 최적화에서는 학습률과 손실 함수를 지정해주면 된다.  \n",
        "척도(metrics)로는 정확도를 지정해주었다."
      ],
      "metadata": {
        "id": "RWhyGvhCSP0w"
      }
    },
    {
      "cell_type": "code",
      "source": [
        "model.compile(optimizer = tf.keras.optimizers.Adam(learning_rate=0.07), \n",
        "              loss='sparse_categorical_crossentropy', \n",
        "              metrics=['accuracy'])"
      ],
      "metadata": {
        "id": "5E-uTAmPikqa"
      },
      "execution_count": 34,
      "outputs": []
    },
    {
      "cell_type": "code",
      "source": [
        "for layer_ in model.layers:\n",
        "    print(layer_)\n",
        "    print(layer_.get_output_at(0).get_shape().as_list())"
      ],
      "metadata": {
        "colab": {
          "base_uri": "https://localhost:8080/"
        },
        "id": "mbuMvVdh0loQ",
        "outputId": "92376fc7-6b16-483d-d3a3-9e77a4e10242"
      },
      "execution_count": 35,
      "outputs": [
        {
          "output_type": "stream",
          "name": "stdout",
          "text": [
            "<keras.layers.core.dense.Dense object at 0x7f3b297aea50>\n",
            "[None, 48]\n",
            "<keras.layers.core.dense.Dense object at 0x7f3b2978bad0>\n",
            "[None, 24]\n",
            "<keras.layers.core.dense.Dense object at 0x7f3b29798e90>\n",
            "[None, 12]\n",
            "<keras.layers.core.dense.Dense object at 0x7f3b266ad790>\n",
            "[None, 2]\n"
          ]
        }
      ]
    },
    {
      "cell_type": "code",
      "source": [
        "model.summary()"
      ],
      "metadata": {
        "colab": {
          "base_uri": "https://localhost:8080/"
        },
        "id": "uJbiu1DEikt4",
        "outputId": "d1eb3037-be68-4336-e314-45ff2fa9e32b"
      },
      "execution_count": 36,
      "outputs": [
        {
          "output_type": "stream",
          "name": "stdout",
          "text": [
            "Model: \"sequential_1\"\n",
            "_________________________________________________________________\n",
            " Layer (type)                Output Shape              Param #   \n",
            "=================================================================\n",
            " dense_4 (Dense)             (None, 48)                624       \n",
            "                                                                 \n",
            " dense_5 (Dense)             (None, 24)                1176      \n",
            "                                                                 \n",
            " dense_6 (Dense)             (None, 12)                300       \n",
            "                                                                 \n",
            " dense_7 (Dense)             (None, 2)                 26        \n",
            "                                                                 \n",
            "=================================================================\n",
            "Total params: 2,126\n",
            "Trainable params: 2,126\n",
            "Non-trainable params: 0\n",
            "_________________________________________________________________\n"
          ]
        }
      ]
    },
    {
      "cell_type": "markdown",
      "source": [
        "## **실제 데이터로 훈련을 진행하고 진행내역을 객체에 기록한다.**"
      ],
      "metadata": {
        "id": "uijvfkRSXbH4"
      }
    },
    {
      "cell_type": "code",
      "source": [
        "history = model.fit(x_train, y_train, epochs=25, batch_size= 32, validation_split=0.25)"
      ],
      "metadata": {
        "colab": {
          "base_uri": "https://localhost:8080/"
        },
        "id": "d2F29AoRikx7",
        "outputId": "fc561574-3732-4e62-8656-cd32f5341490"
      },
      "execution_count": 37,
      "outputs": [
        {
          "output_type": "stream",
          "name": "stdout",
          "text": [
            "Epoch 1/25\n",
            "107/107 [==============================] - 1s 4ms/step - loss: 0.0555 - accuracy: 0.9909 - val_loss: 0.0283 - val_accuracy: 0.9965\n",
            "Epoch 2/25\n",
            "107/107 [==============================] - 0s 3ms/step - loss: 0.0538 - accuracy: 0.9909 - val_loss: 0.0314 - val_accuracy: 0.9965\n",
            "Epoch 3/25\n",
            "107/107 [==============================] - 0s 3ms/step - loss: 0.0534 - accuracy: 0.9909 - val_loss: 0.0301 - val_accuracy: 0.9965\n",
            "Epoch 4/25\n",
            "107/107 [==============================] - 0s 2ms/step - loss: 0.0560 - accuracy: 0.9909 - val_loss: 0.0284 - val_accuracy: 0.9965\n",
            "Epoch 5/25\n",
            "107/107 [==============================] - 0s 3ms/step - loss: 0.0540 - accuracy: 0.9909 - val_loss: 0.0288 - val_accuracy: 0.9965\n",
            "Epoch 6/25\n",
            "107/107 [==============================] - 0s 3ms/step - loss: 0.0530 - accuracy: 0.9909 - val_loss: 0.0291 - val_accuracy: 0.9965\n",
            "Epoch 7/25\n",
            "107/107 [==============================] - 0s 3ms/step - loss: 0.0546 - accuracy: 0.9909 - val_loss: 0.0311 - val_accuracy: 0.9965\n",
            "Epoch 8/25\n",
            "107/107 [==============================] - 0s 3ms/step - loss: 0.0550 - accuracy: 0.9909 - val_loss: 0.0305 - val_accuracy: 0.9965\n",
            "Epoch 9/25\n",
            "107/107 [==============================] - 0s 3ms/step - loss: 0.0533 - accuracy: 0.9909 - val_loss: 0.0298 - val_accuracy: 0.9965\n",
            "Epoch 10/25\n",
            "107/107 [==============================] - 0s 3ms/step - loss: 0.0544 - accuracy: 0.9909 - val_loss: 0.0284 - val_accuracy: 0.9965\n",
            "Epoch 11/25\n",
            "107/107 [==============================] - 0s 2ms/step - loss: 0.0544 - accuracy: 0.9909 - val_loss: 0.0322 - val_accuracy: 0.9965\n",
            "Epoch 12/25\n",
            "107/107 [==============================] - 0s 3ms/step - loss: 0.0532 - accuracy: 0.9909 - val_loss: 0.0294 - val_accuracy: 0.9965\n",
            "Epoch 13/25\n",
            "107/107 [==============================] - 0s 2ms/step - loss: 0.0537 - accuracy: 0.9909 - val_loss: 0.0292 - val_accuracy: 0.9965\n",
            "Epoch 14/25\n",
            "107/107 [==============================] - 0s 2ms/step - loss: 0.0530 - accuracy: 0.9909 - val_loss: 0.0292 - val_accuracy: 0.9965\n",
            "Epoch 15/25\n",
            "107/107 [==============================] - 0s 3ms/step - loss: 0.0537 - accuracy: 0.9909 - val_loss: 0.0286 - val_accuracy: 0.9965\n",
            "Epoch 16/25\n",
            "107/107 [==============================] - 0s 3ms/step - loss: 0.0549 - accuracy: 0.9909 - val_loss: 0.0293 - val_accuracy: 0.9965\n",
            "Epoch 17/25\n",
            "107/107 [==============================] - 0s 2ms/step - loss: 0.0530 - accuracy: 0.9909 - val_loss: 0.0271 - val_accuracy: 0.9965\n",
            "Epoch 18/25\n",
            "107/107 [==============================] - 0s 3ms/step - loss: 0.0538 - accuracy: 0.9909 - val_loss: 0.0302 - val_accuracy: 0.9965\n",
            "Epoch 19/25\n",
            "107/107 [==============================] - 0s 3ms/step - loss: 0.0544 - accuracy: 0.9909 - val_loss: 0.0343 - val_accuracy: 0.9965\n",
            "Epoch 20/25\n",
            "107/107 [==============================] - 0s 2ms/step - loss: 0.0534 - accuracy: 0.9909 - val_loss: 0.0315 - val_accuracy: 0.9965\n",
            "Epoch 21/25\n",
            "107/107 [==============================] - 0s 3ms/step - loss: 0.0538 - accuracy: 0.9909 - val_loss: 0.0281 - val_accuracy: 0.9965\n",
            "Epoch 22/25\n",
            "107/107 [==============================] - 0s 3ms/step - loss: 0.0548 - accuracy: 0.9909 - val_loss: 0.0368 - val_accuracy: 0.9965\n",
            "Epoch 23/25\n",
            "107/107 [==============================] - 0s 3ms/step - loss: 0.0532 - accuracy: 0.9909 - val_loss: 0.0319 - val_accuracy: 0.9965\n",
            "Epoch 24/25\n",
            "107/107 [==============================] - 0s 3ms/step - loss: 0.0543 - accuracy: 0.9909 - val_loss: 0.0294 - val_accuracy: 0.9965\n",
            "Epoch 25/25\n",
            "107/107 [==============================] - 0s 3ms/step - loss: 0.0536 - accuracy: 0.9909 - val_loss: 0.0296 - val_accuracy: 0.9965\n"
          ]
        }
      ]
    },
    {
      "cell_type": "markdown",
      "source": [
        "## **예측값을 확인하고 손실도와 정확도를 확인한다.**\n"
      ],
      "metadata": {
        "id": "hEavhLoPYPZY"
      }
    },
    {
      "cell_type": "code",
      "source": [
        "pred_y = model.predict(x_test)\n",
        "print('prediction: ',pred_y)\n",
        "print(model.evaluate(x_test, y_test))"
      ],
      "metadata": {
        "colab": {
          "base_uri": "https://localhost:8080/"
        },
        "id": "PrbikQYkik2Q",
        "outputId": "df51f933-6f04-42a6-b925-e05dff2dd2ca"
      },
      "execution_count": 39,
      "outputs": [
        {
          "output_type": "stream",
          "name": "stdout",
          "text": [
            "61/61 [==============================] - 0s 1ms/step - loss: 0.0572 - accuracy: 0.9897\n",
            "[0.05717579275369644, 0.9897435903549194]\n"
          ]
        }
      ]
    },
    {
      "cell_type": "code",
      "source": [
        "print(pred_y)"
      ],
      "metadata": {
        "colab": {
          "base_uri": "https://localhost:8080/"
        },
        "outputId": "0db5e580-c53a-4cb7-f037-cef7a2b5df35",
        "id": "_8LO3XAjFpb7"
      },
      "execution_count": 24,
      "outputs": [
        {
          "output_type": "stream",
          "name": "stdout",
          "text": [
            "[[0.07648656 0.92351365]\n",
            " [0.07648656 0.92351365]\n",
            " [0.07648656 0.92351365]\n",
            " ...\n",
            " [0.07648656 0.92351365]\n",
            " [0.07648656 0.92351365]\n",
            " [0.9207884  0.15573058]]\n"
          ]
        }
      ]
    }
  ]
}